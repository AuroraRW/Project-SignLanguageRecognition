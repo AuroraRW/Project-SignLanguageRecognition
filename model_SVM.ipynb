{
 "cells": [
  {
   "cell_type": "code",
   "execution_count": null,
   "metadata": {},
   "outputs": [],
   "source": [
    "#This model is trained online\n",
    "#The website is https://www.kaggle.com/auroraw/kernel-signlanguagesvm"
   ]
  },
  {
   "cell_type": "code",
   "execution_count": 1,
   "metadata": {},
   "outputs": [],
   "source": [
    "#####################################################\n",
    "##Sign Language: SVM model                         ##\n",
    "#####################################################"
   ]
  },
  {
   "cell_type": "code",
   "execution_count": null,
   "metadata": {},
   "outputs": [],
   "source": [
    "import numpy as np\n",
    "import pandas as pd\n",
    "import matplotlib.pyplot as plt\n",
    "import seaborn as sns"
   ]
  },
  {
   "cell_type": "code",
   "execution_count": null,
   "metadata": {},
   "outputs": [],
   "source": [
    "#Load data\n",
    "train_data = pd.read_csv(\"../input/sign_mnist_train_RW.csv\") \n",
    "test_data = pd.read_csv(\"../input/sign_mnist_test_RW.csv\")"
   ]
  },
  {
   "cell_type": "code",
   "execution_count": null,
   "metadata": {},
   "outputs": [],
   "source": [
    "train_data.shape"
   ]
  },
  {
   "cell_type": "code",
   "execution_count": null,
   "metadata": {},
   "outputs": [],
   "source": [
    "test_data.shape "
   ]
  },
  {
   "cell_type": "code",
   "execution_count": null,
   "metadata": {},
   "outputs": [],
   "source": [
    "train_data.head() # printing first five columns of train_data"
   ]
  },
  {
   "cell_type": "code",
   "execution_count": null,
   "metadata": {},
   "outputs": [],
   "source": [
    "test_data.head() # printing first five columns of test_data"
   ]
  },
  {
   "cell_type": "code",
   "execution_count": null,
   "metadata": {},
   "outputs": [],
   "source": [
    "order = list(np.sort(train_data['label'].unique()))\n",
    "print(order)"
   ]
  },
  {
   "cell_type": "code",
   "execution_count": null,
   "metadata": {},
   "outputs": [],
   "source": [
    "# Visualizing the number of class and counts in the datasets\n",
    "sns.countplot(train_data[\"label\"])"
   ]
  },
  {
   "cell_type": "code",
   "execution_count": null,
   "metadata": {},
   "outputs": [],
   "source": [
    "# Separating the X and Y variable\n",
    "y = train_data['label']\n",
    "\n",
    "# Dropping the variable 'label' from X variable \n",
    "X = train_data.drop(columns = 'label')"
   ]
  },
  {
   "cell_type": "code",
   "execution_count": null,
   "metadata": {},
   "outputs": [],
   "source": [
    "# Normalization\n",
    "X = X/255.0\n",
    "print(\"X:\", X.shape)"
   ]
  },
  {
   "cell_type": "code",
   "execution_count": null,
   "metadata": {},
   "outputs": [],
   "source": [
    "# scaling the features\n",
    "from sklearn.preprocessing import scale\n",
    "X_scaled = scale(X)"
   ]
  },
  {
   "cell_type": "code",
   "execution_count": null,
   "metadata": {},
   "outputs": [],
   "source": [
    "# train test split\n",
    "from sklearn.model_selection import train_test_split\n",
    "X_train, X_test, y_train, y_test = train_test_split(X_scaled, y, test_size = 0.3, train_size = 0.2 ,random_state = 10)"
   ]
  },
  {
   "cell_type": "code",
   "execution_count": null,
   "metadata": {},
   "outputs": [],
   "source": [
    "# SVM model\n",
    "# One of four kernel, 'linear’, ‘poly’, ‘rbf’, ‘sigmoid’\n",
    "from sklearn.svm import SVC\n",
    "# model\n",
    "model = SVC(kernel='linear')\n",
    "# fit\n",
    "model.fit(X_train, y_train)"
   ]
  },
  {
   "cell_type": "code",
   "execution_count": null,
   "metadata": {},
   "outputs": [],
   "source": [
    "# predict\n",
    "y_pred = model.predict(X_test)"
   ]
  },
  {
   "cell_type": "code",
   "execution_count": null,
   "metadata": {},
   "outputs": [],
   "source": [
    "# accuracy\n",
    "from sklearn import metrics\n",
    "from sklearn.metrics import confusion_matrix\n",
    "print(\"accuracy:\", metrics.accuracy_score(y_true=y_test, y_pred=y_pred), \"\\n\")"
   ]
  },
  {
   "cell_type": "code",
   "execution_count": null,
   "metadata": {},
   "outputs": [],
   "source": [
    "#deal with the test data\n",
    "testy = test_data['label']\n",
    "\n",
    "testx = test_data.drop(columns = 'label')\n",
    "testx = testx/255.0\n",
    "testx_scaled = scale(testx)\n",
    "\n",
    "y_pred = model.predict(testx_scaled)"
   ]
  },
  {
   "cell_type": "code",
   "execution_count": null,
   "metadata": {},
   "outputs": [],
   "source": [
    "# accuracy\n",
    "print(\"accuracy:\", metrics.accuracy_score(y_true=testy, y_pred=y_pred), \"\\n\")\n",
    "# cm\n",
    "cm=metrics.confusion_matrix(y_true=testy, y_pred=y_pred)"
   ]
  },
  {
   "cell_type": "code",
   "execution_count": null,
   "metadata": {},
   "outputs": [],
   "source": [
    "#save the confusion matrix to csv file\n",
    "dataset = pd.DataFrame({'cm': ['A','B','C','D','E','F','G','H','I','K','L','M','N','O','P','Q','R',\n",
    "                                    'S','T','U','V','W','X','Y'], 'A': cm[:, 0],'B': cm[:, 1],'C': cm[:, 2],\n",
    "                        'D': cm[:, 3],'E': cm[:, 4],'F': cm[:, 5],'G': cm[:, 6],'H': cm[:, 7],'I': cm[:, 8],\n",
    "                       'K': cm[:, 9],'L': cm[:, 10],'M': cm[:, 11],'N': cm[:, 12],'O': cm[:, 13],'P': cm[:, 14],\n",
    "                       'Q': cm[:, 15],'R': cm[:, 16],'S': cm[:, 17],'T': cm[:, 18],'U': cm[:, 19],'V': cm[:, 20],\n",
    "                       'W': cm[:, 21],'X': cm[:, 22],'Y': cm[:, 23]})\n",
    "\n",
    "\n",
    "print(dataset)\n",
    "dataset.to_csv(\"cm.csv\",index=False)"
   ]
  }
 ],
 "metadata": {
  "kernelspec": {
   "display_name": "project",
   "language": "python",
   "name": "project"
  },
  "language_info": {
   "codemirror_mode": {
    "name": "ipython",
    "version": 3
   },
   "file_extension": ".py",
   "mimetype": "text/x-python",
   "name": "python",
   "nbconvert_exporter": "python",
   "pygments_lexer": "ipython3",
   "version": "3.7.3"
  }
 },
 "nbformat": 4,
 "nbformat_minor": 2
}
